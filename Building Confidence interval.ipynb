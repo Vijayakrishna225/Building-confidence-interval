{
 "cells": [
  {
   "cell_type": "code",
   "execution_count": 7,
   "id": "529393b0-e13d-4c6f-afdb-7023d253b57d",
   "metadata": {},
   "outputs": [],
   "source": [
    "import numpy as np\n",
    "from scipy.stats import t   "
   ]
  },
  {
   "cell_type": "code",
   "execution_count": 8,
   "id": "ba036efd-a441-49a2-b590-707d729dec77",
   "metadata": {},
   "outputs": [],
   "source": [
    "#Data provided is :- (1.13, 1.55, 1.43, 0.92, 1.25, 1.36, 1.32, 0.85, 1.07, 1.48, 1.20, 1.33, 1.18, 1.22, 1.29)\n",
    "Data=np.array([1.13, 1.55, 1.43, 0.92, 1.25, 1.36, 1.32, 0.85, 1.07, 1.48, 1.20, 1.33, 1.18, 1.22, 1.29]) "
   ]
  },
  {
   "cell_type": "code",
   "execution_count": 9,
   "id": "869c2129-fd1c-4541-bfa7-0a05534a6349",
   "metadata": {},
   "outputs": [
    {
     "data": {
      "text/plain": [
       "np.float64(1.2386666666666666)"
      ]
     },
     "execution_count": 9,
     "metadata": {},
     "output_type": "execute_result"
    }
   ],
   "source": [
    "#Sample mean\n",
    "Sample_mean=np.mean(Data)              \n",
    "Sample_mean"
   ]
  },
  {
   "cell_type": "code",
   "execution_count": 10,
   "id": "2e3b742a-8b2c-497b-989f-1c8c61116bef",
   "metadata": {},
   "outputs": [
    {
     "data": {
      "text/plain": [
       "np.float64(0.19316412956959936)"
      ]
     },
     "execution_count": 10,
     "metadata": {},
     "output_type": "execute_result"
    }
   ],
   "source": [
    "#Standard deviation\n",
    "Sample_std=np.std(Data,ddof=1)       # ddof=1 is for standard deviation(Delta_Degrees_of_Freedom)\n",
    "Sample_std"
   ]
  },
  {
   "cell_type": "code",
   "execution_count": 12,
   "id": "f3b09caa-4c78-48a6-9590-5e4c34d57ac3",
   "metadata": {},
   "outputs": [
    {
     "data": {
      "text/plain": [
       "15"
      ]
     },
     "execution_count": 12,
     "metadata": {},
     "output_type": "execute_result"
    }
   ],
   "source": [
    "#Sample size\n",
    "Sample_size=np.size(Data)              \n",
    "Sample_size"
   ]
  },
  {
   "cell_type": "code",
   "execution_count": 13,
   "id": "653c7d74-7772-46d3-85f3-69b5c1d09719",
   "metadata": {},
   "outputs": [
    {
     "name": "stdout",
     "output_type": "stream",
     "text": [
      "Confidence interval using Sample standard Deviation:- (np.float64(1.0901973384384906), np.float64(1.3871359948948425))\n"
     ]
    }
   ],
   "source": [
    "#Build 99% Confidence Interval Using Sample Standard Deviation\n",
    "Confidence_level=0.99  \n",
    "alpha=1-Confidence_level\n",
    "t_value=t.ppf(1-alpha/2,df=Sample_size-1)\n",
    "Margin_of_error=t_value*Sample_std/np.sqrt(Sample_size)\n",
    "Confidence_interval=(Sample_mean-Margin_of_error,Sample_mean+Margin_of_error)\n",
    "print(\"Confidence interval using Sample standard Deviation:-\",Confidence_interval)"
   ]
  },
  {
   "cell_type": "code",
   "execution_count": 14,
   "id": "eb16199c-1213-4d6d-a371-2f3d75940c23",
   "metadata": {},
   "outputs": [
    {
     "name": "stdout",
     "output_type": "stream",
     "text": [
      "Confidence Interval Using Known Population Standard Deviation:- (np.float64(1.0849431688733762), np.float64(1.392390164459957))\n"
     ]
    }
   ],
   "source": [
    "#Build 99% Confidence Interval Using Known Population Standard Deviation\n",
    "population_std = 0.2\n",
    "z_value = t.ppf(1 - alpha/2, df=Sample_size - 1)  # Using t-distribution for small sample size\n",
    "Margin_of_error = z_value * population_std / np.sqrt(Sample_size)\n",
    "Confidence_interval = (Sample_mean - Margin_of_error, Sample_mean + Margin_of_error)\n",
    "print(\"Confidence Interval Using Known Population Standard Deviation:-\",Confidence_interval)"
   ]
  },
  {
   "cell_type": "code",
   "execution_count": 40,
   "id": "b889292f-f35b-49ee-8017-7fedf8c03d7d",
   "metadata": {},
   "outputs": [],
   "source": [
    "                            #<Summary>\n",
    "#In both cases we are getting almost similar deviation.\n",
    "#The difference is because of the \"sample data\" and the \"known data\"."
   ]
  },
  {
   "cell_type": "code",
   "execution_count": null,
   "id": "630d8f32-8f49-4ae1-a564-43ec219b4ccc",
   "metadata": {},
   "outputs": [],
   "source": []
  }
 ],
 "metadata": {
  "kernelspec": {
   "display_name": "Python [conda env:base] *",
   "language": "python",
   "name": "conda-base-py"
  },
  "language_info": {
   "codemirror_mode": {
    "name": "ipython",
    "version": 3
   },
   "file_extension": ".py",
   "mimetype": "text/x-python",
   "name": "python",
   "nbconvert_exporter": "python",
   "pygments_lexer": "ipython3",
   "version": "3.13.5"
  }
 },
 "nbformat": 4,
 "nbformat_minor": 5
}
